{
 "cells": [
  {
   "cell_type": "code",
   "execution_count": null,
   "id": "11f6d530-42ac-4793-b3a6-9d7391e943be",
   "metadata": {},
   "outputs": [
    {
     "data": {
      "text/plain": [
       "\"\\nDatabase sharding: Databases can grow out of control in size and may not be physically viable to either upgrade or manage that sort of a system. Thus sharding is a mechanism of creating multiple shards of database which can individually accept and serve requests instead of a bigchunky db server. 2 types of Sharding:     1. Tenant Basesd Sharding/ Geo Sharding: When there are good markers for defining the distribution of data. For example: Uber can be sharded     with this stratergy as drivers can be added to a server based on it's location. For users we can create multiple users for multiple countries.        pros:             1. Easy to add a new shard             2. Easy to manage and debug production issues as all the entities/relations are in the single db instance.        cons:             1. Db might get skewed cause of uneven distribution    2. Hash based sharding: Shards are created and keys are distributed evenly in the shards.        pros:             1. Even distribution of keys            2. Works well with key/val data         cons:             1. Difficult to add new shards            2. Weak consistency, no foreign keys \\n\\n\""
      ]
     },
     "execution_count": 10,
     "metadata": {},
     "output_type": "execute_result"
    }
   ],
   "source": [
    "\"\"\"\n",
    "Database sharding: Databases can grow out of control in size and may not be physically viable to either upgrade or manage that sort of a \\\n",
    "system. Thus sharding is a mechanism of creating multiple shards of database which can individually accept and serve requests instead of a big\\\n",
    "chunky db server. 2 types of Sharding: \\\n",
    "    1. Tenant Basesd Sharding/ Geo Sharding: When there are good markers for defining the distribution of data. For example: Uber can be sharded \\\n",
    "    with this stratergy as drivers can be added to a server based on it's location. For users we can create multiple users for multiple countries.\\\n",
    "        pros: \\\n",
    "            1. Easy to add a new shard \\\n",
    "            2. Easy to manage and debug production issues as all the entities/relations are in the single db instance.\\\n",
    "        cons: \\\n",
    "            1. Db might get skewed cause of uneven distribution\\\n",
    "    2. Hash based sharding: Shards are created and keys are distributed evenly in the shards.\\\n",
    "        pros: \\\n",
    "            1. Even distribution of keys\\\n",
    "            2. Works well with key/val data \\\n",
    "        cons: \\\n",
    "            1. Difficult to add new shards\\\n",
    "            2. Weak consistency, no foreign keys \\\n",
    "\n",
    "        Shard Router: We can add a shard router to route requests to shard. \\\n",
    "            Pros: Simplifies shared comm\\\n",
    "            Cons: singlepoint of failure\n",
    "\"\"\""
   ]
  },
  {
   "cell_type": "code",
   "execution_count": null,
   "id": "cad3b03d-240b-4856-9f1d-12f2425ae19a",
   "metadata": {},
   "outputs": [],
   "source": []
  }
 ],
 "metadata": {
  "kernelspec": {
   "display_name": "Python 3 (ipykernel)",
   "language": "python",
   "name": "python3"
  },
  "language_info": {
   "codemirror_mode": {
    "name": "ipython",
    "version": 3
   },
   "file_extension": ".py",
   "mimetype": "text/x-python",
   "name": "python",
   "nbconvert_exporter": "python",
   "pygments_lexer": "ipython3",
   "version": "3.10.12"
  }
 },
 "nbformat": 4,
 "nbformat_minor": 5
}
